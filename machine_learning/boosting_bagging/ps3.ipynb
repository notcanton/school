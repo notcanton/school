{
  "cells": [
    {
      "attachments": {},
      "cell_type": "markdown",
      "metadata": {
        "id": "9azx7rJyBOMp"
      },
      "source": [
        "# Problem Set 3"
      ]
    },
    {
      "attachments": {},
      "cell_type": "markdown",
      "metadata": {
        "id": "gkEPkpDsBOMv"
      },
      "source": [
        "# Problem 3: Medical Diagnostics\n",
        "\n",
        "These data sets were generated using the UCI SPECT heart data set (follow the link for information about the format of the data)."
      ]
    },
    {
      "cell_type": "code",
      "execution_count": null,
      "metadata": {
        "id": "_xmNJhBnBOMv"
      },
      "outputs": [],
      "source": [
        "import numpy as np\n",
        "import collections\n",
        "import math\n",
        "import matplotlib.pyplot as plt\n",
        "\n",
        "heart_train_path = r'./heart_train.data'\n",
        "heart_test_path = r'./heart_test.data'\n",
        "train = np.loadtxt(heart_train_path, delimiter=\",\")\n",
        "test = np.loadtxt(heart_test_path, delimiter=\",\")\n",
        "\n",
        "X_train = train[:, 1:]\n",
        "y_train = train[:, 0]\n",
        "y_train[y_train == 0] = -1\n",
        "\n",
        "X_test = test[:, 1:]\n",
        "y_test = test[:, 0]\n",
        "y_test[y_test == 0] = -1"
      ]
    },
    {
      "cell_type": "markdown",
      "metadata": {
        "id": "3zk2kIvrBOMw"
      },
      "source": [
        "## Suppose that the hypothesis space consists of all decision trees with exactly three attribute splits (repetition along the same path is allowed) for this data set."
      ]
    },
    {
      "attachments": {},
      "cell_type": "markdown",
      "metadata": {
        "id": "hHXhT_8MBOMx"
      },
      "source": [
        "### Run the adaBoost algorithm for five rounds to train a classifier for this data set."
      ]
    },
    {
      "cell_type": "code",
      "execution_count": null,
      "metadata": {
        "id": "tZ0GRCS5BOMx"
      },
      "outputs": [],
      "source": [
        "# Functions to build the hypothesis space\n",
        "\n",
        "class DecisionTree():\n",
        "    def __init__(self, root):\n",
        "        self.root = root\n",
        "    def __predict(self, root, x):\n",
        "        if root.label is not None:\n",
        "            return root.label\n",
        "        return self.__predict(root.children[x[root.attr]], x)    \n",
        "    def predict(self, x):\n",
        "        if self.root.label is not None:\n",
        "            return self.root.label\n",
        "        return self.__predict(self.root.children[x[self.root.attr]], x)\n",
        "\n",
        "\n",
        "class Node():\n",
        "    def __init__(self, attr, children = None, label = None):\n",
        "        self.attr = attr\n",
        "        self.children = children\n",
        "        self.label = label\n",
        "\n",
        "# Recursively builds all possible trees given three attributes\n",
        "# Children = list of attribute indicies that will be children of the current root\n",
        "# attr = index of the attribute of the current node\n",
        "# Returns a list of root nodes for each tree\n",
        "def build3split(children, attr):\n",
        "    trees = []\n",
        "\n",
        "    # Just leafs\n",
        "    if len(children) == 0:\n",
        "        for left_value in [-1, 1]:\n",
        "            for right_value in [-1, 1]:\n",
        "                left_leaf = Node(attr, label=left_value)\n",
        "                right_leaf = Node(attr, label=right_value)\n",
        "                trees.append(Node(attr, children={0 : left_leaf, 1 : right_leaf}))\n",
        "        return trees\n",
        "\n",
        "    # Single Child Node\n",
        "    single_subtrees = build3split(children[1:], children[0])\n",
        "    for subtree in single_subtrees:\n",
        "        for leaf_value in [-1, 1]:\n",
        "            leaf = Node(attr, label=leaf_value)\n",
        "            trees.append(Node(attr, children={0 : subtree, 1 : leaf}))\n",
        "            trees.append(Node(attr, children={0 : leaf, 1 : subtree}))\n",
        "\n",
        "    # Two Child Node\n",
        "    if (len(children) >= 2):\n",
        "        left_subtrees = build3split(children[2:], children[0])\n",
        "        right_subtrees = build3split(children[2:], children[1])\n",
        "\n",
        "        for left_tree in left_subtrees:\n",
        "            for right_tree in right_subtrees:\n",
        "                trees.append(Node(attr, children={0 : left_tree, 1 : right_tree}))\n",
        "\n",
        "    return trees"
      ]
    },
    {
      "cell_type": "code",
      "execution_count": null,
      "metadata": {
        "id": "swGDwgRWBOMy"
      },
      "outputs": [],
      "source": [
        "# Functions to implement AdaBoosting\n",
        "\n",
        "# Prints a tree given the root node\n",
        "def print_tree(root, prefix=\"├──\"):\n",
        "    if root is None:\n",
        "        return\n",
        "    if root.label is not None:\n",
        "        print(f\"{root.label}\")\n",
        "        return\n",
        "    print(f\"Split on index: {root.attr}\")\n",
        "    for attr, child in root.children.items():\n",
        "        print(f\"\\t{prefix}Attr: {attr} => \", end=\"\")\n",
        "        print_tree(child, \"\\t\"+ prefix )\n",
        "    return\n",
        "\n",
        "# Calculates the accuracy of a ensemble of hypotheses in boosting\n",
        "# ensemble = list of tuples (alpha, model)\n",
        "def ensemble_accuracy(ensemble, X, y):\n",
        "    result = []\n",
        "    for x in X:\n",
        "        y_pred = 0\n",
        "        for alpha, model in ensemble:\n",
        "            y_pred += alpha * model.predict(x)\n",
        "        result.append(y_pred)\n",
        "    result = np.sign(result)\n",
        "    return np.sum(np.equal(result, y)) / len(y)\n",
        "\n",
        "# Perform Adaboosting on a given hypothesis space for fixed iterations\n",
        "# hypo_space = list of possible hypotheses\n",
        "# iter = number of boosting iterations to perform\n",
        "# train = (X_train, y_train)\n",
        "# test = (X_test, y_test)\n",
        "# Returns (ensemble list, training accuracy list, test accuracy list)\n",
        "def adaboost(hypo_space, iter, train, test):\n",
        "    X_train = train[0]\n",
        "    y_train = train[1]\n",
        "    weights = np.array([1 / len(y_train)] * len(y_train)) # Initalize weights\n",
        "    ensemble = [] # List of (alphas, models) for each iteration\n",
        "\n",
        "    # list of arrays of predicted y's for each hypothesis\n",
        "    hypo_predictions =[np.array([hypo.predict(x) for x in X_train]) for hypo in hypo_space]\n",
        "    \n",
        "    # 2-d array where each row is a boolean array if the prediction is wrong\n",
        "    error_masks = np.array([predictions != y_train for predictions in hypo_predictions])\n",
        "\n",
        "    # accuracy per iteration\n",
        "    train_acc = []\n",
        "    test_acc = []\n",
        "\n",
        "    # Perform boosting for n iterations\n",
        "    for i in range(iter):\n",
        "\n",
        "        # Calculate error for each possible hypothesis\n",
        "        # [np.sum(mask * weights) for mask in error_masks] \n",
        "        weighted_errors = np.dot(error_masks, weights)\n",
        "        index_min = np.argmin(weighted_errors)\n",
        "        \n",
        "        best_error = weighted_errors[index_min]\n",
        "        best_hypo = hypo_space[index_min]\n",
        "        best_predictions = hypo_predictions[index_min]\n",
        "\n",
        "\n",
        "        # Calculate h(x) for new weights\n",
        "        y_pred = best_predictions\n",
        "\n",
        "        # Calucate alpha\n",
        "        alpha = 0.5 * np.log((1 - best_error) / best_error)\n",
        "\n",
        "        # Update weights\n",
        "        weights = (weights * np.exp(-y_train * y_pred * alpha)) / (2 * np.sqrt(best_error * (1 - best_error)))\n",
        "        ensemble.append((alpha, best_hypo))\n",
        "        \n",
        "        # Calculate Accuracy\n",
        "        train_acc.append(ensemble_accuracy(ensemble, train[0], train[1]))\n",
        "        test_acc.append(ensemble_accuracy(ensemble, test[0], test[1]))\n",
        "\n",
        "        # Print metrics for first five iterations\n",
        "        if i < 5:\n",
        "            print(f\"Iteration: {i}\\tError:{best_error}\\tAlpha:{alpha}\")\n",
        "            print_tree(best_hypo.root)\n",
        "\n",
        "    return ensemble, train_acc, test_acc"
      ]
    },
    {
      "cell_type": "code",
      "execution_count": null,
      "metadata": {
        "colab": {
          "base_uri": "https://localhost:8080/"
        },
        "id": "71CeN4ZZBOMz",
        "outputId": "ed853737-a61c-4a38-bf11-e6b7e90fecfc"
      },
      "outputs": [
        {
          "name": "stdout",
          "output_type": "stream",
          "text": [
            "851840\n",
            "Iteration: 0\tError:0.1875\tAlpha:0.7331685343967135\n",
            "Split on index: 7\n",
            "\t├──Attr: 0 => Split on index: 10\n",
            "\t\t├──Attr: 0 => Split on index: 15\n",
            "\t\t\t├──Attr: 0 => -1\n",
            "\t\t\t├──Attr: 1 => 1\n",
            "\t\t├──Attr: 1 => 1\n",
            "\t├──Attr: 1 => 1\n",
            "Iteration: 1\tError:0.2692307692307692\tAlpha:0.4992644150555637\n",
            "Split on index: 11\n",
            "\t├──Attr: 0 => Split on index: 19\n",
            "\t\t├──Attr: 0 => Split on index: 21\n",
            "\t\t\t├──Attr: 0 => -1\n",
            "\t\t\t├──Attr: 1 => 1\n",
            "\t\t├──Attr: 1 => 1\n",
            "\t├──Attr: 1 => 1\n",
            "Iteration: 2\tError:0.34035087719298246\tAlpha:0.33086549216328326\n",
            "Split on index: 12\n",
            "\t├──Attr: 0 => Split on index: 2\n",
            "\t\t├──Attr: 0 => Split on index: 21\n",
            "\t\t\t├──Attr: 0 => 1\n",
            "\t\t\t├──Attr: 1 => -1\n",
            "\t\t├──Attr: 1 => -1\n",
            "\t├──Attr: 1 => 1\n",
            "Iteration: 3\tError:0.33719604863221886\tAlpha:0.33790736963862894\n",
            "Split on index: 3\n",
            "\t├──Attr: 0 => Split on index: 21\n",
            "\t\t├──Attr: 0 => -1\n",
            "\t\t├──Attr: 1 => 1\n",
            "\t├──Attr: 1 => Split on index: 8\n",
            "\t\t├──Attr: 0 => -1\n",
            "\t\t├──Attr: 1 => 1\n",
            "Iteration: 4\tError:0.36971122376230825\tAlpha:0.2667279323771729\n",
            "Split on index: 4\n",
            "\t├──Attr: 0 => 1\n",
            "\t├──Attr: 1 => Split on index: 12\n",
            "\t\t├──Attr: 0 => Split on index: 18\n",
            "\t\t\t├──Attr: 0 => -1\n",
            "\t\t\t├──Attr: 1 => 1\n",
            "\t\t├──Attr: 1 => 1\n"
          ]
        }
      ],
      "source": [
        "# Builds the hypothesis space\n",
        "hypo_roots = []\n",
        "# Iterates through all possible attributes for each split\n",
        "for i in range(len(X_train[0])):\n",
        "    for j in range(len(X_train[0])):\n",
        "        for k in range(len(X_train[0])):\n",
        "            hypo_roots += build3split([j, k], i)\n",
        "\n",
        "# Encapsulates the nodes into a DecisionTree\n",
        "hypo_space = [DecisionTree(root) for root in hypo_roots]\n",
        "print(len(hypo_space))\n",
        "\n",
        "# Performs Adaboost\n",
        "ensemble, train_acc, test_acc = adaboost(hypo_space, 10, (X_train, y_train), (X_test, y_test))"
      ]
    },
    {
      "cell_type": "markdown",
      "metadata": {
        "id": "DD1XO-98D_Hp"
      },
      "source": [
        "![trees](https://drive.google.com/uc?export=download&id=1DE3XPpgmxM2sIH1ZXxbStwx3_PCG4hue)"
      ]
    },
    {
      "cell_type": "markdown",
      "metadata": {
        "id": "cCS3sjm_BOM0"
      },
      "source": [
        "### (b) Run the adaBoost algorithm for 10 rounds of boosting. Plot the accuracy on the training and test sets versus iteration number."
      ]
    },
    {
      "cell_type": "code",
      "execution_count": null,
      "metadata": {
        "colab": {
          "base_uri": "https://localhost:8080/",
          "height": 282
        },
        "id": "rQfuYFJ1BOMz",
        "outputId": "d107cb9e-31f8-4f01-b923-cd013daa0956"
      },
      "outputs": [
        {
          "data": {
            "text/plain": [
              "<matplotlib.legend.Legend at 0x7f247fd02dd0>"
            ]
          },
          "execution_count": 22,
          "metadata": {},
          "output_type": "execute_result"
        },
        {
          "data": {
            "image/png": "[encoded data removed]",
            "text/plain": [
              "<Figure size 432x288 with 1 Axes>"
            ]
          },
          "metadata": {
            "needs_background": "light"
          },
          "output_type": "display_data"
        }
      ],
      "source": [
        "plt.plot(test_acc, label=\"Test\")\n",
        "plt.plot(train_acc, label=\"Train\")\n",
        "plt.legend()"
      ]
    },
    {
      "cell_type": "markdown",
      "metadata": {
        "id": "R_BDZligBOM0"
      },
      "source": [
        "## 2. Now, suppose that the hypothesis space consists of only height 1 decision trees for this dataset.\n"
      ]
    },
    {
      "cell_type": "code",
      "execution_count": null,
      "metadata": {
        "id": "6RUMx4NdBOM0"
      },
      "outputs": [],
      "source": [
        "# Construct the hypothesis space\n",
        "\n",
        "class DecisionTreeSingle():\n",
        "    def __init__(self, attr, result):\n",
        "        self.root = None\n",
        "        self.attr = attr\n",
        "        self.result = result\n",
        "        return\n",
        "\n",
        "    def predict(self, X):\n",
        "\n",
        "        # Return scalar\n",
        "        if (len(X.shape) == 1):\n",
        "            return self.result.get(X[self.attr])\n",
        "\n",
        "        # Return array\n",
        "        prediction = []\n",
        "        for x in X:\n",
        "            prediction.append(self.result.get(x[self.attr]))\n",
        "        return np.array(prediction)\n",
        "\n",
        "hypothesis = []\n",
        "\n",
        "hypothesis.append(DecisionTreeSingle(0, {0:1, 1:1}))\n",
        "hypothesis.append(DecisionTreeSingle(0, {0:-1, 1:-1}))\n",
        "\n",
        "for i in range(X_train.shape[1]):\n",
        "    split = {0:1, 1:-1}\n",
        "    hypothesis.append(DecisionTreeSingle(i, split))\n",
        "    split = {0:-1, 1:1}\n",
        "    hypothesis.append(DecisionTreeSingle(i, split))"
      ]
    },
    {
      "attachments": {},
      "cell_type": "markdown",
      "metadata": {
        "id": "Y-TrvZDpBOM0"
      },
      "source": [
        "### (a) Use coordinate descent to minimize the exponential loss function for this hypothesis space over the training set. "
      ]
    },
    {
      "cell_type": "code",
      "execution_count": null,
      "metadata": {
        "colab": {
          "base_uri": "https://localhost:8080/"
        },
        "id": "Nas5SRp4BOM1",
        "outputId": "d9218b8d-8d26-4314-a2f2-f84763e5a269"
      },
      "outputs": [
        {
          "name": "stdout",
          "output_type": "stream",
          "text": [
            "alphas: [16.598369648291165, 0, 5.238805971631234, 0, 0.47878595992474526, 0, 10.472188359285479, 0, -0.8216251727672549, 0, -0.3193447614291511, 0, -0.1258081462271163, 0, -0.6069409655252586, 0, -10.074099991037347, 0, 8.746769277834257, 0, -5.104734566463085, 0, -0.39314794125167296, 0, 0.4578327302097394, 0, -0.7928826757807175, 0, -8.20961695410614, 0, -3.79772439748582, 0, -0.7405527269504613, 0, -6.565002971381626, 0, -4.712892170871722, 0, -0.050552423450202735, 0, -0.33133883633933053, 0, -0.16043007466846937, 0, -0.38306226436183455, 0]\n",
            "exponential loss: 39.33070695439794\n"
          ]
        }
      ],
      "source": [
        "# Initial alphas = 0's\n",
        "# Stopping condition: when the max change in alpha between a pass through all \n",
        "# the hypotheses is less than 1e-5\n",
        "\n",
        "# Any alphas that are 1e-10 away from 0 are truncated to exactly 0\n",
        "# 1e-5 takes around 15 mins while 1e-4 takes around 2 mins\n",
        "# The final alphas would be different but the test accuracy is the exact same\n",
        "\n",
        "def coord_descent(hypothesis, X_train, y_train):\n",
        "    old_alphas = [0] * len(hypothesis)\n",
        "    alphas = [0] * len(hypothesis)\n",
        "    iter_diff = 1\n",
        "    predictions = [hypo.predict(X_train) for hypo in hypothesis]    # predicted y's for each hypothesis\n",
        "    correct_masks = [prediction == y_train for prediction in predictions]   # boolean masks of correct predicted y's and true y's \n",
        "\n",
        "    while iter_diff > 1e-5:\n",
        "\n",
        "        # A round of going through all the hypotheses to calculate new alpha\n",
        "        for i, correct_mask in enumerate(correct_masks):\n",
        "            # Instead of directly iterating through each hypothesis\n",
        "            # We iterate through the arrays of correct/incorrect boolean masks\n",
        "            # This cacheing step saves from repredicting X_train and is equivalent to:\n",
        "            # correct_mask = hypo.predict(X_train) == y_train\n",
        "            # 1. sum_{t != t'} a_t h_t(x^m)\n",
        "            hypo_summation = np.zeros(len(y_train))\n",
        "\n",
        "            for j, prediction in enumerate(predictions):\n",
        "                if i == j:\n",
        "                    continue\n",
        "                if alphas[j] == 0:\n",
        "                    continue\n",
        "                hypo_summation += alphas[j] * prediction\n",
        "\n",
        "            # 2. exp(-y^m times summation)\n",
        "            exp_summation = np.exp(-y_train * hypo_summation)\n",
        "                    \n",
        "            # 3. Sum up all correctly and incorrectly classified points separately\n",
        "            correct_sum = np.sum(exp_summation[correct_mask])\n",
        "            incorrect_sum = np.sum(exp_summation[np.invert(correct_mask)])\n",
        "\n",
        "            # a_t = 1/2 ln (correct / incorrect)\n",
        "            new_alpha = 0.5 * math.log(correct_sum / incorrect_sum)\n",
        "            new_alpha = new_alpha if new_alpha > 1e-10 or new_alpha < -1e-10 else 0\n",
        "            alphas[i] = new_alpha\n",
        "\n",
        "        iter_diff = max([abs(x - y) for x, y in zip(alphas, old_alphas)])\n",
        "        old_alphas = alphas.copy()\n",
        "\n",
        "    # Calculate loss\n",
        "    hypo_summation = np.zeros(len(y_train))\n",
        "    for j, prediction in enumerate(predictions):\n",
        "        if alphas[j] == 0:\n",
        "          continue\n",
        "        hypo_summation += alphas[j] * prediction\n",
        "    exp_loss = np.sum(np.exp(-y_train * hypo_summation))\n",
        "\n",
        "    return alphas, exp_loss\n",
        "\n",
        "alphas, loss = coord_descent(hypothesis, X_train, y_train)\n",
        "print(f\"alphas: {alphas}\")\n",
        "print(f\"exponential loss: {loss}\")"
      ]
    },
    {
      "cell_type": "code",
      "execution_count": null,
      "metadata": {
        "id": "R82usZy6BOM2"
      },
      "outputs": [],
      "source": [
        "# for 1e-5, run this if you want to skip coord descent\n",
        "alphas = [16.598369648291165, 0, 5.238805971631234, 0, 0.47878595992474526, 0, 10.472188359285479, 0, -0.8216251727672549, 0, -0.3193447614291511, 0, -0.1258081462271163, 0, -0.6069409655252586, 0, -10.074099991037347, 0, 8.746769277834257, 0, -5.104734566463085, 0, -0.39314794125167296, 0, 0.4578327302097394, 0, -0.7928826757807175, 0, -8.20961695410614, 0, -3.79772439748582, 0, -0.7405527269504613, 0, -6.565002971381626, 0, -4.712892170871722, 0, -0.050552423450202735, 0, -0.33133883633933053, 0, -0.16043007466846937, 0, -0.38306226436183455, 0]"
      ]
    },
    {
      "cell_type": "markdown",
      "metadata": {
        "id": "zFI0BGSCBOM2"
      },
      "source": [
        "### (b) What is the accuracy of the resulting classifier on the test data?"
      ]
    },
    {
      "cell_type": "code",
      "execution_count": null,
      "metadata": {
        "colab": {
          "base_uri": "https://localhost:8080/"
        },
        "id": "CS3M9uJcBOM2",
        "outputId": "7ac14272-9590-492e-c634-c3262650817b"
      },
      "outputs": [
        {
          "name": "stdout",
          "output_type": "stream",
          "text": [
            "test acc = 0.679144385026738\n"
          ]
        }
      ],
      "source": [
        "ensemble = [(alpha, model) for alpha, model in zip(alphas, hypothesis)]\n",
        "test_acc = ensemble_accuracy(ensemble, X_test, y_test)\n",
        "\n",
        "print(f\"test acc = {test_acc}\")"
      ]
    },
    {
      "cell_type": "markdown",
      "metadata": {
        "id": "AnT7ieANBOM2"
      },
      "source": [
        "### (c) What is the accuracy of adaBoost after 20 rounds for this hypothesis space on the test data? How does the α learned by adaBoost compare to the one learned by gradient descent?"
      ]
    },
    {
      "cell_type": "markdown",
      "metadata": {
        "id": "2NqPKELuANDA"
      },
      "source": [
        "The alphas in adaboost are restricted to only 20 values and are postive real numbers. In contrast, gradient descent had alphas for all hypotheses and can be any real number (i.e. 0 or negative as well). Additionally, gradient descent have few hypotheses that have large alpha values while adaBoost's alphas are closer in value with each other.\n"
      ]
    },
    {
      "cell_type": "code",
      "execution_count": null,
      "metadata": {
        "colab": {
          "base_uri": "https://localhost:8080/"
        },
        "id": "eAMrBrgTBOM2",
        "outputId": "062ac05f-1f9a-4585-d230-fe6d304c8f84"
      },
      "outputs": [
        {
          "name": "stdout",
          "output_type": "stream",
          "text": [
            "Iteration: 0\tError:0.27499999999999997\tAlpha:0.4847002785940519\n",
            "Iteration: 1\tError:0.38557993730407536\tAlpha:0.2329651519290496\n",
            "Iteration: 2\tError:0.35050087108013944\tAlpha:0.30841915161660405\n",
            "Iteration: 3\tError:0.368625044883102\tAlpha:0.2690599604033768\n",
            "Iteration: 4\tError:0.43680235707837023\tAlpha:0.12707489951194642\n",
            "alphas = [0.4847002785940519, 0.2329651519290496, 0.30841915161660405, 0.2690599604033768, 0.12707489951194642, 0.19391360519349726, 0.16646581973436553, 0.20484093019666014, 0.11233780854211324, 0.1691531043753745, 0.12721184797605253, 0.153863770691764, 0.09807054208811175, 0.15796706354327933, 0.13458519734012883, 0.13035666473731994, 0.10144574639261594, 0.12621641283923687, 0.1074496408797689, 0.11081674484994215]\n",
            "test acc = 0.6684491978609626\n"
          ]
        }
      ],
      "source": [
        "ensemble, train_acc, test_acc = adaboost(hypothesis, 20, (X_train, y_train), (X_test, y_test))\n",
        "print(f\"alphas = {[alpha for alpha, _ in ensemble]}\")\n",
        "print(f\"test acc = {test_acc[-1]}\")"
      ]
    },
    {
      "cell_type": "markdown",
      "metadata": {
        "id": "Pr2xn_O0BOM2"
      },
      "source": [
        "### (d) Use bagging, with 20 bootstrap samples, to produce an average classifier for this data set. How does it compare to the previous classifiers in terms of accuracy on the test set?\n"
      ]
    },
    {
      "cell_type": "markdown",
      "metadata": {
        "id": "mHGzjwI_G-Dl"
      },
      "source": [
        "It has a lower accuracy on the test set compared to the other two methods."
      ]
    },
    {
      "cell_type": "code",
      "execution_count": null,
      "metadata": {
        "colab": {
          "base_uri": "https://localhost:8080/"
        },
        "id": "y1IUTmCcBOM2",
        "outputId": "4fd0e22b-eda8-4b66-cafb-cfd223b30b3f"
      },
      "outputs": [
        {
          "name": "stdout",
          "output_type": "stream",
          "text": [
            "test acc = 0.6149732620320856\n"
          ]
        }
      ],
      "source": [
        "def bagging(hypo_space, size, X, y):\n",
        "    ensemble = []\n",
        "    for _ in range(size):\n",
        "        indicies = np.random.choice(len(y), len(y))\n",
        "        X_train = X[indicies]\n",
        "        y_train = y[indicies]\n",
        "\n",
        "        best_model = None\n",
        "        best_acc = 0\n",
        "\n",
        "        for hypo in hypo_space:\n",
        "            y_pred = hypo.predict(X_train)\n",
        "            acc = np.sum(np.equal(y_pred, y_train)) / len(y_train)\n",
        "            if acc > best_acc:\n",
        "                best_model = hypo\n",
        "                best_acc = acc\n",
        "        \n",
        "        ensemble.append((1/size, best_model))\n",
        "            \n",
        "    return ensemble\n",
        "\n",
        "ensemble = bagging(hypothesis, 20, X_train, y_train)\n",
        "test_acc = ensemble_accuracy(ensemble, X_test, y_test)\n",
        "print(f\"test acc = {test_acc}\")"
      ]
    },
    {
      "cell_type": "markdown",
      "metadata": {
        "id": "x51N5I2KBOM3"
      },
      "source": [
        "### (e) Which of these 3 methods should be preferred for this data set and why?"
      ]
    },
    {
      "cell_type": "markdown",
      "metadata": {
        "id": "Erq8DVngBOM3"
      },
      "source": [
        "Looking at the test accuracy, we would prefer coordinate descent because it has the heighest accuracy of the three models. However, for coordinate descent we would have to try all possible hypotheses for predication, it may be more computationally expensive compared to adaboosting where we only have to run 20 hypotheses. If the training data, is not representative of real world patient data, the two boosting methods may overfit to the training data and may not generalize well in practice. The bagging method has a slightly worse testing accuracy but may generalize better."
      ]
    }
  ],
  "metadata": {
    "colab": {
      "provenance": [],
      "toc_visible": true
    },
    "kernelspec": {
      "display_name": "base",
      "language": "python",
      "name": "python3"
    },
    "language_info": {
      "codemirror_mode": {
        "name": "ipython",
        "version": 3
      },
      "file_extension": ".py",
      "mimetype": "text/x-python",
      "name": "python",
      "nbconvert_exporter": "python",
      "pygments_lexer": "ipython3",
      "version": "3.9.13 | packaged by conda-forge | (main, May 27 2022, 16:51:29) [MSC v.1929 64 bit (AMD64)]"
    },
    "orig_nbformat": 4,
    "vscode": {
      "interpreter": {
        "hash": "eee0ec1dfc014c5e818c9fd6187bf3227a654b7ffe32fcac85496f478f59351d"
      }
    }
  },
  "nbformat": 4,
  "nbformat_minor": 0
}
